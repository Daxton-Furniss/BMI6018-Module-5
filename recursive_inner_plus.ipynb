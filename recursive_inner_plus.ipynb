{
 "cells": [
  {
   "cell_type": "code",
   "execution_count": 51,
   "id": "31edb2f7",
   "metadata": {},
   "outputs": [
    {
     "name": "stdout",
     "output_type": "stream",
     "text": [
      "[13, 14]\n"
     ]
    }
   ],
   "source": [
    "def recursive_inner_plus(input_list):\n",
    "  \n",
    "    inner_most_list = []\n",
    "\n",
    "    for x in input_list:\n",
    "        if isinstance(x, list):\n",
    "            inner_most_list = recursive_inner_plus(x)\n",
    "            \n",
    "    if inner_most_list:\n",
    "        return inner_most_list\n",
    "    \n",
    "    return [x + 1 for x in input_list]\n",
    "\n",
    "input_list = [1,2,3,4,[5,6,7,[8,[9, 10,[12, 13]]]]]\n",
    "result = recursive_inner_plus(input_list)\n",
    "print(result)"
   ]
  }
 ],
 "metadata": {
  "kernelspec": {
   "display_name": "Python 3 (ipykernel)",
   "language": "python",
   "name": "python3"
  },
  "language_info": {
   "codemirror_mode": {
    "name": "ipython",
    "version": 3
   },
   "file_extension": ".py",
   "mimetype": "text/x-python",
   "name": "python",
   "nbconvert_exporter": "python",
   "pygments_lexer": "ipython3",
   "version": "3.11.3"
  }
 },
 "nbformat": 4,
 "nbformat_minor": 5
}
