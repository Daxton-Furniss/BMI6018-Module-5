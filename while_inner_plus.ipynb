{
 "cells": [
  {
   "cell_type": "code",
   "execution_count": 82,
   "id": "e3dd8f81",
   "metadata": {},
   "outputs": [
    {
     "name": "stdout",
     "output_type": "stream",
     "text": [
      "[13, 14]\n"
     ]
    }
   ],
   "source": [
    "def while_inner_plus(input_list):\n",
    "    while True:\n",
    "        inner_list = False\n",
    "        for x in range(len(input_list)):\n",
    "            if type(input_list[x]) == list:\n",
    "                input_list = input_list[x]\n",
    "                inner_list = True\n",
    "                break\n",
    "        \n",
    "        if not inner_list:\n",
    "            break\n",
    "\n",
    "    inner_most_list = [x + 1 for x in input_list]\n",
    "    return inner_most_list\n",
    "\n",
    "input_list = [1,2,3,4,[5,6,7,[8,[9, 10,[12, 13]]]]]\n",
    "result = while_inner_plus(input_list)\n",
    "print(result)"
   ]
  }
 ],
 "metadata": {
  "kernelspec": {
   "display_name": "Python 3 (ipykernel)",
   "language": "python",
   "name": "python3"
  },
  "language_info": {
   "codemirror_mode": {
    "name": "ipython",
    "version": 3
   },
   "file_extension": ".py",
   "mimetype": "text/x-python",
   "name": "python",
   "nbconvert_exporter": "python",
   "pygments_lexer": "ipython3",
   "version": "3.11.3"
  }
 },
 "nbformat": 4,
 "nbformat_minor": 5
}
